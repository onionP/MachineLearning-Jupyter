{
 "cells": [
  {
   "cell_type": "code",
   "execution_count": 1,
   "id": "ed84d818",
   "metadata": {},
   "outputs": [],
   "source": [
    "import pandas as pd\n",
    "import numpy as np\n",
    "import matplotlib.pyplot as plt\n",
    "import seaborn as sns\n"
   ]
  },
  {
   "cell_type": "code",
   "execution_count": 3,
   "id": "d9493732",
   "metadata": {},
   "outputs": [],
   "source": [
    "file_url ='https://media.githubusercontent.com/media/musthave-ML10/data_source/main/car.csv'\n",
    "data= pd.read_csv(file_url)"
   ]
  },
  {
   "cell_type": "code",
   "execution_count": 4,
   "id": "4834297e",
   "metadata": {},
   "outputs": [
    {
     "data": {
      "text/html": [
       "<div>\n",
       "<style scoped>\n",
       "    .dataframe tbody tr th:only-of-type {\n",
       "        vertical-align: middle;\n",
       "    }\n",
       "\n",
       "    .dataframe tbody tr th {\n",
       "        vertical-align: top;\n",
       "    }\n",
       "\n",
       "    .dataframe thead th {\n",
       "        text-align: right;\n",
       "    }\n",
       "</style>\n",
       "<table border=\"1\" class=\"dataframe\">\n",
       "  <thead>\n",
       "    <tr style=\"text-align: right;\">\n",
       "      <th></th>\n",
       "      <th>name</th>\n",
       "      <th>year</th>\n",
       "      <th>selling_price</th>\n",
       "      <th>km_driven</th>\n",
       "      <th>fuel</th>\n",
       "      <th>seller_type</th>\n",
       "      <th>transmission</th>\n",
       "      <th>owner</th>\n",
       "      <th>mileage</th>\n",
       "      <th>engine</th>\n",
       "      <th>max_power</th>\n",
       "      <th>torque</th>\n",
       "      <th>seats</th>\n",
       "    </tr>\n",
       "  </thead>\n",
       "  <tbody>\n",
       "    <tr>\n",
       "      <th>0</th>\n",
       "      <td>Maruti Swift Dzire VDI</td>\n",
       "      <td>2014</td>\n",
       "      <td>450000</td>\n",
       "      <td>145500</td>\n",
       "      <td>Diesel</td>\n",
       "      <td>Individual</td>\n",
       "      <td>Manual</td>\n",
       "      <td>First Owner</td>\n",
       "      <td>23.4 kmpl</td>\n",
       "      <td>1248 CC</td>\n",
       "      <td>74 bhp</td>\n",
       "      <td>190Nm@ 2000rpm</td>\n",
       "      <td>5.0</td>\n",
       "    </tr>\n",
       "    <tr>\n",
       "      <th>1</th>\n",
       "      <td>Skoda Rapid 1.5 TDI Ambition</td>\n",
       "      <td>2014</td>\n",
       "      <td>370000</td>\n",
       "      <td>120000</td>\n",
       "      <td>Diesel</td>\n",
       "      <td>Individual</td>\n",
       "      <td>Manual</td>\n",
       "      <td>Second Owner</td>\n",
       "      <td>21.14 kmpl</td>\n",
       "      <td>1498 CC</td>\n",
       "      <td>103.52 bhp</td>\n",
       "      <td>250Nm@ 1500-2500rpm</td>\n",
       "      <td>5.0</td>\n",
       "    </tr>\n",
       "    <tr>\n",
       "      <th>2</th>\n",
       "      <td>Honda City 2017-2020 EXi</td>\n",
       "      <td>2006</td>\n",
       "      <td>158000</td>\n",
       "      <td>140000</td>\n",
       "      <td>Petrol</td>\n",
       "      <td>Individual</td>\n",
       "      <td>Manual</td>\n",
       "      <td>Third Owner</td>\n",
       "      <td>17.7 kmpl</td>\n",
       "      <td>1497 CC</td>\n",
       "      <td>78 bhp</td>\n",
       "      <td>12.7@ 2,700(kgm@ rpm)</td>\n",
       "      <td>5.0</td>\n",
       "    </tr>\n",
       "    <tr>\n",
       "      <th>3</th>\n",
       "      <td>Hyundai i20 Sportz Diesel</td>\n",
       "      <td>2010</td>\n",
       "      <td>225000</td>\n",
       "      <td>127000</td>\n",
       "      <td>Diesel</td>\n",
       "      <td>Individual</td>\n",
       "      <td>Manual</td>\n",
       "      <td>First Owner</td>\n",
       "      <td>23.0 kmpl</td>\n",
       "      <td>1396 CC</td>\n",
       "      <td>90 bhp</td>\n",
       "      <td>22.4 kgm at 1750-2750rpm</td>\n",
       "      <td>5.0</td>\n",
       "    </tr>\n",
       "    <tr>\n",
       "      <th>4</th>\n",
       "      <td>Maruti Swift VXI BSIII</td>\n",
       "      <td>2007</td>\n",
       "      <td>130000</td>\n",
       "      <td>120000</td>\n",
       "      <td>Petrol</td>\n",
       "      <td>Individual</td>\n",
       "      <td>Manual</td>\n",
       "      <td>First Owner</td>\n",
       "      <td>16.1 kmpl</td>\n",
       "      <td>1298 CC</td>\n",
       "      <td>88.2 bhp</td>\n",
       "      <td>11.5@ 4,500(kgm@ rpm)</td>\n",
       "      <td>5.0</td>\n",
       "    </tr>\n",
       "  </tbody>\n",
       "</table>\n",
       "</div>"
      ],
      "text/plain": [
       "                           name  year  selling_price  km_driven    fuel  \\\n",
       "0        Maruti Swift Dzire VDI  2014         450000     145500  Diesel   \n",
       "1  Skoda Rapid 1.5 TDI Ambition  2014         370000     120000  Diesel   \n",
       "2      Honda City 2017-2020 EXi  2006         158000     140000  Petrol   \n",
       "3     Hyundai i20 Sportz Diesel  2010         225000     127000  Diesel   \n",
       "4        Maruti Swift VXI BSIII  2007         130000     120000  Petrol   \n",
       "\n",
       "  seller_type transmission         owner     mileage   engine   max_power  \\\n",
       "0  Individual       Manual   First Owner   23.4 kmpl  1248 CC      74 bhp   \n",
       "1  Individual       Manual  Second Owner  21.14 kmpl  1498 CC  103.52 bhp   \n",
       "2  Individual       Manual   Third Owner   17.7 kmpl  1497 CC      78 bhp   \n",
       "3  Individual       Manual   First Owner   23.0 kmpl  1396 CC      90 bhp   \n",
       "4  Individual       Manual   First Owner   16.1 kmpl  1298 CC    88.2 bhp   \n",
       "\n",
       "                     torque  seats  \n",
       "0            190Nm@ 2000rpm    5.0  \n",
       "1       250Nm@ 1500-2500rpm    5.0  \n",
       "2     12.7@ 2,700(kgm@ rpm)    5.0  \n",
       "3  22.4 kgm at 1750-2750rpm    5.0  \n",
       "4     11.5@ 4,500(kgm@ rpm)    5.0  "
      ]
     },
     "execution_count": 4,
     "metadata": {},
     "output_type": "execute_result"
    }
   ],
   "source": [
    "data.head()"
   ]
  },
  {
   "cell_type": "code",
   "execution_count": 5,
   "id": "48983e3e",
   "metadata": {},
   "outputs": [
    {
     "name": "stdout",
     "output_type": "stream",
     "text": [
      "<class 'pandas.core.frame.DataFrame'>\n",
      "RangeIndex: 8128 entries, 0 to 8127\n",
      "Data columns (total 13 columns):\n",
      " #   Column         Non-Null Count  Dtype  \n",
      "---  ------         --------------  -----  \n",
      " 0   name           8128 non-null   object \n",
      " 1   year           8128 non-null   int64  \n",
      " 2   selling_price  8128 non-null   int64  \n",
      " 3   km_driven      8128 non-null   int64  \n",
      " 4   fuel           8128 non-null   object \n",
      " 5   seller_type    8128 non-null   object \n",
      " 6   transmission   8128 non-null   object \n",
      " 7   owner          8128 non-null   object \n",
      " 8   mileage        7907 non-null   object \n",
      " 9   engine         7907 non-null   object \n",
      " 10  max_power      7913 non-null   object \n",
      " 11  torque         7906 non-null   object \n",
      " 12  seats          7907 non-null   float64\n",
      "dtypes: float64(1), int64(3), object(9)\n",
      "memory usage: 825.6+ KB\n"
     ]
    }
   ],
   "source": [
    "data.info()"
   ]
  },
  {
   "cell_type": "code",
   "execution_count": 6,
   "id": "68a4a0b2",
   "metadata": {},
   "outputs": [
    {
     "data": {
      "text/html": [
       "<div>\n",
       "<style scoped>\n",
       "    .dataframe tbody tr th:only-of-type {\n",
       "        vertical-align: middle;\n",
       "    }\n",
       "\n",
       "    .dataframe tbody tr th {\n",
       "        vertical-align: top;\n",
       "    }\n",
       "\n",
       "    .dataframe thead th {\n",
       "        text-align: right;\n",
       "    }\n",
       "</style>\n",
       "<table border=\"1\" class=\"dataframe\">\n",
       "  <thead>\n",
       "    <tr style=\"text-align: right;\">\n",
       "      <th></th>\n",
       "      <th>year</th>\n",
       "      <th>selling_price</th>\n",
       "      <th>km_driven</th>\n",
       "      <th>seats</th>\n",
       "    </tr>\n",
       "  </thead>\n",
       "  <tbody>\n",
       "    <tr>\n",
       "      <th>count</th>\n",
       "      <td>8128.00</td>\n",
       "      <td>8128.00</td>\n",
       "      <td>8128.00</td>\n",
       "      <td>7907.00</td>\n",
       "    </tr>\n",
       "    <tr>\n",
       "      <th>mean</th>\n",
       "      <td>2013.80</td>\n",
       "      <td>638271.81</td>\n",
       "      <td>69819.51</td>\n",
       "      <td>5.42</td>\n",
       "    </tr>\n",
       "    <tr>\n",
       "      <th>std</th>\n",
       "      <td>4.04</td>\n",
       "      <td>806253.40</td>\n",
       "      <td>56550.55</td>\n",
       "      <td>0.96</td>\n",
       "    </tr>\n",
       "    <tr>\n",
       "      <th>min</th>\n",
       "      <td>1983.00</td>\n",
       "      <td>29999.00</td>\n",
       "      <td>1.00</td>\n",
       "      <td>2.00</td>\n",
       "    </tr>\n",
       "    <tr>\n",
       "      <th>25%</th>\n",
       "      <td>2011.00</td>\n",
       "      <td>254999.00</td>\n",
       "      <td>35000.00</td>\n",
       "      <td>5.00</td>\n",
       "    </tr>\n",
       "    <tr>\n",
       "      <th>50%</th>\n",
       "      <td>2015.00</td>\n",
       "      <td>450000.00</td>\n",
       "      <td>60000.00</td>\n",
       "      <td>5.00</td>\n",
       "    </tr>\n",
       "    <tr>\n",
       "      <th>75%</th>\n",
       "      <td>2017.00</td>\n",
       "      <td>675000.00</td>\n",
       "      <td>98000.00</td>\n",
       "      <td>5.00</td>\n",
       "    </tr>\n",
       "    <tr>\n",
       "      <th>max</th>\n",
       "      <td>2020.00</td>\n",
       "      <td>10000000.00</td>\n",
       "      <td>2360457.00</td>\n",
       "      <td>14.00</td>\n",
       "    </tr>\n",
       "  </tbody>\n",
       "</table>\n",
       "</div>"
      ],
      "text/plain": [
       "          year  selling_price   km_driven    seats\n",
       "count  8128.00        8128.00     8128.00  7907.00\n",
       "mean   2013.80      638271.81    69819.51     5.42\n",
       "std       4.04      806253.40    56550.55     0.96\n",
       "min    1983.00       29999.00        1.00     2.00\n",
       "25%    2011.00      254999.00    35000.00     5.00\n",
       "50%    2015.00      450000.00    60000.00     5.00\n",
       "75%    2017.00      675000.00    98000.00     5.00\n",
       "max    2020.00    10000000.00  2360457.00    14.00"
      ]
     },
     "execution_count": 6,
     "metadata": {},
     "output_type": "execute_result"
    }
   ],
   "source": [
    "round(data.describe(),2)"
   ]
  },
  {
   "cell_type": "code",
   "execution_count": 9,
   "id": "3464fa98",
   "metadata": {},
   "outputs": [],
   "source": [
    "data[['engine', 'engine_units']]=data['engine'].str.split(expand=True)"
   ]
  },
  {
   "cell_type": "code",
   "execution_count": 10,
   "id": "502ad6f1",
   "metadata": {},
   "outputs": [],
   "source": [
    "data['engine']=data['engine'].astype('float32')"
   ]
  },
  {
   "cell_type": "code",
   "execution_count": 14,
   "id": "acfe988e",
   "metadata": {},
   "outputs": [
    {
     "data": {
      "text/plain": [
       "array(['CC', nan], dtype=object)"
      ]
     },
     "execution_count": 14,
     "metadata": {},
     "output_type": "execute_result"
    }
   ],
   "source": [
    "data['engine_units'].unique()"
   ]
  },
  {
   "cell_type": "code",
   "execution_count": 16,
   "id": "dfafecea",
   "metadata": {},
   "outputs": [],
   "source": [
    "data.drop('engine_units', axis=1, inplace= True)"
   ]
  },
  {
   "cell_type": "code",
   "execution_count": 17,
   "id": "23737a15",
   "metadata": {},
   "outputs": [],
   "source": [
    "data[['max_power', 'max_power_units']]=data['max_power'].str.split(expand=True)"
   ]
  },
  {
   "cell_type": "code",
   "execution_count": 20,
   "id": "ba033768",
   "metadata": {},
   "outputs": [],
   "source": [
    "def ifFloat(value):\n",
    "    try:\n",
    "        num = float(value)\n",
    "        return num\n",
    "    except ValueError:\n",
    "        return np.NaN\n",
    "\n",
    "data['max_power']=data['max_power'].apply(ifFloat)"
   ]
  },
  {
   "cell_type": "code",
   "execution_count": 21,
   "id": "201d835a",
   "metadata": {},
   "outputs": [],
   "source": [
    "data.drop('max_power_units', axis=1, inplace= True)"
   ]
  },
  {
   "cell_type": "code",
   "execution_count": 22,
   "id": "ed49ac78",
   "metadata": {},
   "outputs": [],
   "source": [
    "data[['mileage','mileage_unit']] = data['mileage'].str.split(expand=True) "
   ]
  },
  {
   "cell_type": "code",
   "execution_count": 24,
   "id": "2ad6b2bb",
   "metadata": {},
   "outputs": [],
   "source": [
    "data['mileage'] = data['mileage'].astype('float32')"
   ]
  },
  {
   "cell_type": "code",
   "execution_count": 28,
   "id": "b1b5d22a",
   "metadata": {},
   "outputs": [],
   "source": [
    "def mile(x):\n",
    "    if x['fuel'] == 'Petrol':\n",
    "        return x['mileage']/80.43\n",
    "    elif x['fuel'] == 'Diesel':\n",
    "        return x['mileage']/73.56\n",
    "    elif x['fuel'] == 'LPG':\n",
    "        return x['mileage']/40.86\n",
    "    else:\n",
    "        return x['mileage']/44.23\n",
    "    \n",
    "data['mileage'] = data.apply(mile, axis=1)"
   ]
  },
  {
   "cell_type": "code",
   "execution_count": 29,
   "id": "ff84ef55",
   "metadata": {},
   "outputs": [],
   "source": [
    "data.drop('mileage_unit', axis=1, inplace= True)"
   ]
  },
  {
   "cell_type": "code",
   "execution_count": 30,
   "id": "ab1fe978",
   "metadata": {},
   "outputs": [],
   "source": [
    "data['torque'] = data['torque'].str.upper( )"
   ]
  },
  {
   "cell_type": "code",
   "execution_count": 32,
   "id": "944b0a20",
   "metadata": {},
   "outputs": [],
   "source": [
    "def torque_unit(x):\n",
    "    if 'NM' in str(x):\n",
    "        return 'Nm'\n",
    "    elif 'KGM' in str(x):\n",
    "        return 'kgm'\n",
    "data['torque_unit'] = data['torque'].apply(torque_unit) \n"
   ]
  },
  {
   "cell_type": "code",
   "execution_count": 33,
   "id": "28ffb842",
   "metadata": {},
   "outputs": [],
   "source": [
    "data['torque_unit'].fillna('Nm', inplace= True)"
   ]
  },
  {
   "cell_type": "code",
   "execution_count": 34,
   "id": "d66ff95d",
   "metadata": {},
   "outputs": [],
   "source": [
    "def split_num(x):\n",
    "    x = str(x)\n",
    "    for i, j in enumerate(x):\n",
    "        if j not in '0123456789.':\n",
    "            cut =i\n",
    "            break\n",
    "    return x[:cut]\n",
    "data['torque']= data['torque'].apply(split_num)"
   ]
  },
  {
   "cell_type": "code",
   "execution_count": 35,
   "id": "a9b3317c",
   "metadata": {},
   "outputs": [],
   "source": [
    "data['torque'] = data['torque'].replace('', np.NaN)\n",
    "data['torque'] = data['torque'].astype('float64') #"
   ]
  },
  {
   "cell_type": "code",
   "execution_count": 36,
   "id": "1e2441d2",
   "metadata": {},
   "outputs": [],
   "source": [
    "def torque_trans(x):\n",
    "    if x['torque_unit'] == 'kgm':\n",
    "        return x['torque']*9.8066\n",
    "    else:\n",
    "        return x['torque']\n",
    "data['torque']=data.apply(torque_trans, axis=1)"
   ]
  },
  {
   "cell_type": "code",
   "execution_count": 37,
   "id": "a9a83bb6",
   "metadata": {},
   "outputs": [],
   "source": [
    "data.drop('torque_unit', axis=1, inplace=True) "
   ]
  },
  {
   "cell_type": "code",
   "execution_count": 38,
   "id": "e6c1ef54",
   "metadata": {},
   "outputs": [],
   "source": [
    "data['name'] = data['name'].str.split(expand=True)[0] "
   ]
  },
  {
   "cell_type": "code",
   "execution_count": 39,
   "id": "b7af90dd",
   "metadata": {},
   "outputs": [
    {
     "data": {
      "text/plain": [
       "name             0.000000\n",
       "year             0.000000\n",
       "selling_price    0.000000\n",
       "km_driven        0.000000\n",
       "fuel             0.000000\n",
       "seller_type      0.000000\n",
       "transmission     0.000000\n",
       "owner            0.000000\n",
       "mileage          0.027190\n",
       "engine           0.027190\n",
       "max_power        0.026575\n",
       "torque           0.027313\n",
       "seats            0.027190\n",
       "dtype: float64"
      ]
     },
     "execution_count": 39,
     "metadata": {},
     "output_type": "execute_result"
    }
   ],
   "source": [
    "data.isna().mean()"
   ]
  },
  {
   "cell_type": "code",
   "execution_count": 40,
   "id": "f9830399",
   "metadata": {},
   "outputs": [
    {
     "data": {
      "text/plain": [
       "7906"
      ]
     },
     "execution_count": 40,
     "metadata": {},
     "output_type": "execute_result"
    }
   ],
   "source": [
    "data.dropna(inplace = True)\n",
    "len(data)"
   ]
  },
  {
   "cell_type": "code",
   "execution_count": 41,
   "id": "01bb62f1",
   "metadata": {},
   "outputs": [],
   "source": [
    "data = pd.get_dummies(data, columns = ['name','fuel','seller_type',\n",
    " 'transmission','owner'], drop_first=True) "
   ]
  },
  {
   "cell_type": "code",
   "execution_count": 44,
   "id": "c647e167",
   "metadata": {},
   "outputs": [],
   "source": [
    "from sklearn.model_selection import train_test_split\n",
    "X_train, X_test, y_train, y_test = train_test_split(data.drop('selling_price', axis=1), data['selling_price'], test_size=0.2)"
   ]
  },
  {
   "cell_type": "code",
   "execution_count": 55,
   "id": "f14e0e54",
   "metadata": {},
   "outputs": [],
   "source": [
    "from sklearn.ensemble import RandomForestRegressor\n",
    "model = RandomForestRegressor()\n",
    "model.fit(X_train, y_train)\n",
    "train_pred= model.predict(X_train)\n",
    "test_pred = model.predict(X_test)"
   ]
  },
  {
   "cell_type": "code",
   "execution_count": 57,
   "id": "8837bd27",
   "metadata": {},
   "outputs": [
    {
     "name": "stdout",
     "output_type": "stream",
     "text": [
      "train_rmse: 55536.99959243001 test_rmse: 126459.05606941016\n"
     ]
    }
   ],
   "source": [
    "from sklearn.metrics import mean_squared_error\n",
    "print(\"train_rmse:\", mean_squared_error(y_train, train_pred)**0.5, \n",
    "      \"test_rmse:\", mean_squared_error(y_test, test_pred)**0.5)"
   ]
  },
  {
   "cell_type": "code",
   "execution_count": 58,
   "id": "aac600c5",
   "metadata": {},
   "outputs": [],
   "source": [
    "from sklearn.model_selection import KFold\n",
    "data.reset_index(drop=True, inplace = True)"
   ]
  },
  {
   "cell_type": "code",
   "execution_count": 60,
   "id": "d2895fc3",
   "metadata": {},
   "outputs": [],
   "source": [
    "kF = KFold(n_splits=5)"
   ]
  },
  {
   "cell_type": "code",
   "execution_count": 61,
   "id": "3dae2932",
   "metadata": {},
   "outputs": [],
   "source": [
    "X=data.drop('selling_price', axis =1)\n",
    "y=data['selling_price']"
   ]
  },
  {
   "cell_type": "code",
   "execution_count": 66,
   "id": "a81ff2d9",
   "metadata": {},
   "outputs": [],
   "source": [
    "train_rmse_total =[]\n",
    "test_rmse_total=[]\n",
    "\n",
    "for train_index, test_index in kF.split(X):\n",
    "    X_train, X_test = X.loc[train_index,:], X.loc[test_index,:]\n",
    "    y_train, y_test = y.loc[train_index], y.loc[test_index]\n",
    "    \n",
    "    model = RandomForestRegressor(n_estimators = 300, max_depth = 50, min_samples_split = 5, min_samples_leaf = 1, n_jobs=-1)\n",
    "    model.fit(X_train, y_train)\n",
    "    train_pred = model.predict(X_train)\n",
    "    test_pred = model.predict(X_test)\n",
    "    \n",
    "    train_rmse = mean_squared_error(y_train, train_pred)**0.5\n",
    "    test_rmse = mean_squared_error(y_test, test_pred)**0.5\n",
    "    \n",
    "    train_rmse_total.append(train_rmse)\n",
    "    test_rmse_total.append(test_rmse)"
   ]
  },
  {
   "cell_type": "code",
   "execution_count": 67,
   "id": "f9ecdee1",
   "metadata": {},
   "outputs": [
    {
     "name": "stdout",
     "output_type": "stream",
     "text": [
      "train_rmse: 65840.98010560099 test_rmse: 143403.4660635936\n"
     ]
    }
   ],
   "source": [
    "print(\"train_rmse:\", sum(train_rmse_total)/5, \"test_rmse:\",sum(test_rmse_total)/5)"
   ]
  },
  {
   "cell_type": "code",
   "execution_count": null,
   "id": "2ae2be51",
   "metadata": {},
   "outputs": [],
   "source": []
  }
 ],
 "metadata": {
  "kernelspec": {
   "display_name": "Python 3 (ipykernel)",
   "language": "python",
   "name": "python3"
  },
  "language_info": {
   "codemirror_mode": {
    "name": "ipython",
    "version": 3
   },
   "file_extension": ".py",
   "mimetype": "text/x-python",
   "name": "python",
   "nbconvert_exporter": "python",
   "pygments_lexer": "ipython3",
   "version": "3.11.5"
  }
 },
 "nbformat": 4,
 "nbformat_minor": 5
}
